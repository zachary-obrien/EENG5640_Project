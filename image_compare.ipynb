{
 "cells": [
  {
   "cell_type": "code",
   "execution_count": 1,
   "metadata": {
    "collapsed": true
   },
   "outputs": [],
   "source": [
    "from PIL import Image\n",
    "import numpy as np"
   ]
  },
  {
   "cell_type": "code",
   "execution_count": 2,
   "outputs": [],
   "source": [
    "def fetch_image_array(filename):\n",
    "    img = Image.open(filename)\n",
    "    return np.asarray(img)"
   ],
   "metadata": {
    "collapsed": false,
    "pycharm": {
     "name": "#%%\n"
    }
   }
  },
  {
   "cell_type": "code",
   "execution_count": 6,
   "outputs": [],
   "source": [
    "def get_min_col(matrix, row_matrix):\n",
    "    print(\"Matrix:\", matrix)\n",
    "    print(\"Row Matrix:\", row_matrix)\n",
    "    col_val = 0\n",
    "    min_score = -1\n",
    "    found_column = -1\n",
    "    # doing 8 nearest neighbors with a buffered image, so always going to be col\n",
    "    # 1  and shape - 1 to skip buffer\n",
    "    for index in range(1, row_matrix.shape[1]-1):\n",
    "        # we're getting the submatrix that that is -1 and +2\n",
    "        # (because it's non-inclusive)\n",
    "        if index + 2 > row_matrix.shape[1]:\n",
    "            compare_matrix = row_matrix[:,index-1:-1]\n",
    "        else:\n",
    "            compare_matrix = row_matrix[:,index-1:index+2]\n",
    "        diff_matrix = np.abs(matrix - compare_matrix)\n",
    "        matrix_score = np.sum(diff_matrix)\n",
    "        if min_score == -1 or matrix_score < min_score:\n",
    "            min_score = matrix_score\n",
    "            found_column = col_val\n",
    "        col_val += 1\n",
    "    return found_column, min_score"
   ],
   "metadata": {
    "collapsed": false,
    "pycharm": {
     "name": "#%%\n"
    }
   }
  },
  {
   "cell_type": "code",
   "execution_count": 8,
   "outputs": [],
   "source": [
    "def get_similar_point(left_image, right_image, row, column):\n",
    "    buffered_left_image = np.pad(left_image, pad_width=1, mode='edge')\n",
    "    buffered_right_image = np.pad(right_image, pad_width=1, mode='edge')\n",
    "    point_matrix = buffered_left_image[row:row+3,column:column+3]\n",
    "    row_matrix = buffered_right_image[row:row+3,:]\n",
    "    found_col, score = get_min_col(point_matrix,row_matrix)\n",
    "    return row, found_col"
   ],
   "metadata": {
    "collapsed": false,
    "pycharm": {
     "name": "#%%\n"
    }
   }
  },
  {
   "cell_type": "code",
   "execution_count": 10,
   "outputs": [
    {
     "name": "stdout",
     "output_type": "stream",
     "text": [
      "Matrix: [[0 0 0]\n",
      " [1 0 0]\n",
      " [0 0 0]]\n",
      "Row Matrix: [[0 0 0 0 0 0 0 0 0 0]\n",
      " [0 0 0 0 0 0 1 0 0 0]\n",
      " [0 0 0 0 0 0 0 0 0 0]]\n",
      "Expected Row,Col: 5 , 6\n",
      "Got Row,Col:     5 , 6\n"
     ]
    }
   ],
   "source": [
    "fake_left_image = [[0, 0, 0, 0, 0, 0, 0, 0],\n",
    "                   [0, 0, 0, 0, 0, 0, 0, 0],\n",
    "                   [0, 0, 0, 0, 0, 0, 0, 0],\n",
    "                   [0, 0, 0, 0, 0, 0, 0, 0],\n",
    "                   [0, 0, 0, 0, 0, 0, 0, 0],\n",
    "                   [0, 1, 0, 0, 0, 0, 0, 0],\n",
    "                   [0, 0, 0, 0, 0, 0, 0, 0],\n",
    "                   [0, 0, 0, 0, 0, 0, 0, 0]]\n",
    "\n",
    "fake_right_image = [[0, 0, 0, 0, 0, 0, 0, 0],\n",
    "                    [0, 0, 0, 0, 0, 0, 0, 0],\n",
    "                    [0, 0, 0, 0, 0, 0, 0, 0],\n",
    "                    [0, 0, 0, 0, 0, 0, 0, 0],\n",
    "                    [0, 0, 0, 0, 0, 0, 0, 0],\n",
    "                    [0, 0, 0, 0, 0, 1, 0, 0],\n",
    "                    [0, 0, 0, 0, 0, 0, 0, 0],\n",
    "                    [0, 0, 0, 0, 0, 0, 0, 0]]\n",
    "\n",
    "fake_index = (5,2)\n",
    "found_row, found_col = get_similar_point(fake_left_image, fake_right_image,\n",
    "                                             fake_index[0], fake_index[1])\n",
    "print(\"Expected Row,Col: 5 , 6\")\n",
    "print(\"Got Row,Col:    \", found_row, \",\", found_col)"
   ],
   "metadata": {
    "collapsed": false,
    "pycharm": {
     "name": "#%%\n"
    }
   }
  }
 ],
 "metadata": {
  "kernelspec": {
   "display_name": "Python 3",
   "language": "python",
   "name": "python3"
  },
  "language_info": {
   "codemirror_mode": {
    "name": "ipython",
    "version": 2
   },
   "file_extension": ".py",
   "mimetype": "text/x-python",
   "name": "python",
   "nbconvert_exporter": "python",
   "pygments_lexer": "ipython2",
   "version": "2.7.6"
  }
 },
 "nbformat": 4,
 "nbformat_minor": 0
}